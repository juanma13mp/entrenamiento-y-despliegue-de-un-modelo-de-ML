{
 "cells": [
  {
   "cell_type": "code",
   "execution_count": null,
   "metadata": {},
   "outputs": [],
   "source": [
    "!curl --request POST 'http://127.0.0.1:8000/predict' \\\n",
    "--header 'Content-Type: application/json'\\\n",
    "--data-raw '{\\\n",
    "   \"lead_origin\":\"lead_add_form\",\\\n",
    "   \"lead_source\":\"reference\",\\\n",
    "   \"do_not_email\":no,\\\n",
    "   \"totalvisits\":0.0,\\\n",
    "   \"total_time_spent_on_website\":0,\\\n",
    "   \"page_views_per_visit\":0.00,\\\n",
    "   \"last_activity\":\"email_link_clicked\",\\\n",
    "   \"specialization\":\"services_excellence\",\\\n",
    "   \"what_is_your_current_occupation\":\"unemployed\",\\\n",
    "   \"tags\":\"closed_by_horizzon\",\\\n",
    "   \"city\":\"thane_&_outskirts\",\\\n",
    "   \"last_notable_activity\":\"modified\"\\\n",
    "}'"
   ]
  },
  {
   "cell_type": "code",
   "execution_count": null,
   "metadata": {},
   "outputs": [],
   "source": [
    "!curl --request POST 'http://127.0.0.1:8000/predict' \\\n",
    "--header 'Content-Type: application/json'\\\n",
    "--data-raw '{\\\n",
    "   \"lead_origin\":\"landing_page_submission\",\\\n",
    "   \"lead_source\":\"direct_traffic\",\\\n",
    "   \"do_not_email\":no,\\\n",
    "   \"totalvisits\":4.0,\\\n",
    "   \"total_time_spent_on_website\":1503,\\\n",
    "   \"page_views_per_visit\":2.00,\\\n",
    "   \"last_activity\":\"sms_sent\",\\\n",
    "   \"specialization\":\"healthcare_management\",\\\n",
    "   \"what_is_your_current_occupation\":\"student\",\\\n",
    "   \"tags\":\"will_revert_after_reading_the_email\",\\\n",
    "   \"city\":\"mumbai\",\\\n",
    "   \"last_notable_activity\":\"sms_sent\"\\\n",
    "}'"
   ]
  }
 ],
 "metadata": {
  "interpreter": {
   "hash": "31f2aee4e71d21fbe5cf8b01ff0e069b9275f58929596ceb00d14d90e3e16cd6"
  },
  "kernelspec": {
   "display_name": "Python 3 (ipykernel)",
   "language": "python",
   "name": "python3"
  },
  "language_info": {
   "codemirror_mode": {
    "name": "ipython",
    "version": 3
   },
   "file_extension": ".py",
   "mimetype": "text/x-python",
   "name": "python",
   "nbconvert_exporter": "python",
   "pygments_lexer": "ipython3",
   "version": "3.9.7"
  }
 },
 "nbformat": 4,
 "nbformat_minor": 2
}
